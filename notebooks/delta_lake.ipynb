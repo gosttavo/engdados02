{
 "cells": [
  {
   "cell_type": "code",
   "execution_count": 1,
   "id": "64161ee2",
   "metadata": {},
   "outputs": [
    {
     "name": "stderr",
     "output_type": "stream",
     "text": [
      "25/04/21 12:38:01 WARN Utils: Your hostname, edsatc resolves to a loopback address: 127.0.1.1; using 10.0.2.15 instead (on interface enp0s3)\n",
      "25/04/21 12:38:01 WARN Utils: Set SPARK_LOCAL_IP if you need to bind to another address\n",
      "25/04/21 12:38:02 WARN NativeCodeLoader: Unable to load native-hadoop library for your platform... using builtin-java classes where applicable\n",
      "Setting default log level to \"WARN\".\n",
      "To adjust logging level use sc.setLogLevel(newLevel). For SparkR, use setLogLevel(newLevel).\n"
     ]
    },
    {
     "name": "stdout",
     "output_type": "stream",
     "text": [
      "Vector(spark://10.0.2.15:44111/jars/delta-core_2.12-2.4.0.jar)\n"
     ]
    }
   ],
   "source": [
    "from pyspark.sql import SparkSession\n",
    "from pyspark.sql.types import StructType, StructField, StringType, IntegerType, DateType, DoubleType, TimestampType\n",
    "\n",
    "spark = SparkSession.builder \\\n",
    "    .appName(\"DeltaLocal\") \\\n",
    "    .config(\"spark.sql.extensions\", \"io.delta.sql.DeltaSparkSessionExtension\") \\\n",
    "    .config(\"spark.sql.catalog.spark_catalog\", \"org.apache.spark.sql.delta.catalog.DeltaCatalog\") \\\n",
    "    .config(\"spark.jars\", \"/home/ed/jars/delta-core_2.12-2.4.0.jar\") \\\n",
    "    .getOrCreate()\n",
    "\n",
    "print(spark.sparkContext._jsc.sc().listJars())"
   ]
  },
  {
   "cell_type": "code",
   "execution_count": null,
   "id": "7d1be169",
   "metadata": {},
   "outputs": [],
   "source": [
    "\n",
    "apoliceSchema = StructType([\n",
    "    StructField(\"cod_apolice\", IntegerType(), False),\n",
    "    StructField(\"cod_cliente\", IntegerType(), False),\n",
    "    StructField(\"data_inicio_vigencia\", DateType(), True),\n",
    "    StructField(\"data_fim_vigencia\", DateType(), True),\n",
    "    StructField(\"valor_cobertura\", DoubleType(), True),\n",
    "    StructField(\"valor_franquia\", DoubleType(), True),\n",
    "    StructField(\"placa\", StringType(), True)\n",
    "])\n",
    "\n",
    "df_apolice = spark.read \\\n",
    "    .format(\"csv\") \\\n",
    "    .schema(apoliceSchema) \\\n",
    "    .option(\"header\", \"true\") \\\n",
    "    .option(\"encoding\", \"UTF-8\") \\\n",
    "    .load(\"../data/apolice.csv\")"
   ]
  },
  {
   "cell_type": "code",
   "execution_count": 3,
   "id": "85e07086",
   "metadata": {},
   "outputs": [],
   "source": [
    "carroSchema = StructType([\n",
    "    StructField(\"placa\", StringType(), False),\n",
    "    StructField(\"modelo\", StringType(), True),\n",
    "    StructField(\"chassi\", StringType(), False),\n",
    "    StructField(\"marca\", StringType(), True),\n",
    "    StructField(\"ano\", IntegerType(), True),\n",
    "    StructField(\"cor\", StringType(), True),\n",
    "])\n",
    "\n",
    "df_carro = spark.read \\\n",
    "    .format(\"csv\") \\\n",
    "    .schema(carroSchema) \\\n",
    "    .option(\"header\", \"true\") \\\n",
    "    .option(\"encoding\", \"UTF-8\") \\\n",
    "    .load(\"../data/carro.csv\")"
   ]
  },
  {
   "cell_type": "code",
   "execution_count": 4,
   "id": "7ac4973c",
   "metadata": {},
   "outputs": [],
   "source": [
    "clienteSchema = StructType([\n",
    "    StructField(\"cod_cliente\", IntegerType(), False),\n",
    "    StructField(\"nome\", StringType(), True),\n",
    "    StructField(\"cpf\", StringType(), False),\n",
    "    StructField(\"sexo\", StringType(), True),\n",
    "    StructField(\"endereco\", StringType(), True),\n",
    "    StructField(\"telefone_fixo\", StringType(), True),\n",
    "    StructField(\"telefone_celular\", StringType(), True),\n",
    "])\n",
    "\n",
    "df_cliente = spark.read \\\n",
    "    .format(\"csv\") \\\n",
    "    .schema(clienteSchema) \\\n",
    "    .option(\"header\", \"true\") \\\n",
    "    .option(\"encoding\", \"UTF-8\") \\\n",
    "    .load(\"../data/cliente.csv\")"
   ]
  },
  {
   "cell_type": "code",
   "execution_count": 5,
   "id": "b6d52204",
   "metadata": {},
   "outputs": [],
   "source": [
    "sinistroSchema = StructType([\n",
    "    StructField(\"cod_sinistro\", IntegerType(), False),\n",
    "    StructField(\"placa\", StringType(), False),\n",
    "    StructField(\"data_sinistro\", DateType(), True),\n",
    "    StructField(\"hora_sinistro\", TimestampType(), True),\n",
    "    StructField(\"local_sinistro\", StringType(), True),\n",
    "    StructField(\"condutor\", StringType(), True),\n",
    "])\n",
    "\n",
    "df_sinistro = spark.read \\\n",
    "    .format(\"csv\") \\\n",
    "    .schema(sinistroSchema) \\\n",
    "    .option(\"header\", \"true\") \\\n",
    "    .option(\"encoding\", \"UTF-8\") \\\n",
    "    .load(\"../data/sinistro.csv\")"
   ]
  },
  {
   "cell_type": "code",
   "execution_count": 6,
   "id": "35e97d0a",
   "metadata": {},
   "outputs": [
    {
     "name": "stderr",
     "output_type": "stream",
     "text": [
      "                                                                                \r"
     ]
    },
    {
     "name": "stdout",
     "output_type": "stream",
     "text": [
      "+-------+---------+-----------+----------+----+--------+\n",
      "|  placa|   modelo|     chassi|     marca| ano|     cor|\n",
      "+-------+---------+-----------+----------+----+--------+\n",
      "|ALD3834|     CLIO|34574215969|   RENAULT|2011|  BRANCO|\n",
      "|CCR8096|    CRETA|88547875547|   HYUNDAI|2020|  BRANCO|\n",
      "|DLA3438|    PUNTO|98823483434|      FIAT|2013|   PRETO|\n",
      "|EEE1056|ECO SPORT|56753453455|      FORD|2020|    AZUL|\n",
      "|FFR1234|    PALIO|32383478747|      FIAT|2009| AMARELO|\n",
      "|GQY6753|      S10|72004160549|        GM|2015|   PRETO|\n",
      "|IAC8974|   TIGUAN|77130757746|VOLKSWAGEN|2022|    AZUL|\n",
      "|JIE0952|   PASSAT|87493270405|VOLKSWAGEN|2016|   CINZA|\n",
      "|JNU7898|     2020|87628347687|      FORD|2020|   VERDE|\n",
      "|LVX7086|  SANDERO|00025131958|   RENAULT|1999|VERMELHO|\n",
      "|LWJ9156|     ONIX|40991078801|        GM|2015|    AZUL|\n",
      "|MZT1826|      GOL|41150439528|VOLKSWAGEN|1998| AMARELO|\n",
      "|NAP5760|  COMPASS|40364369549|      JEEP|2017|   PRETO|\n",
      "|NEM5116|     2008|69469771523|   PEUGEOT|2018|   PRETO|\n",
      "|NFT2212|     KWID|12344343433|   RENAULT|2023|  BRANCO|\n",
      "+-------+---------+-----------+----------+----+--------+\n",
      "\n"
     ]
    }
   ],
   "source": [
    "df_carro.show()"
   ]
  },
  {
   "cell_type": "code",
   "execution_count": 8,
   "id": "943d062d",
   "metadata": {},
   "outputs": [
    {
     "name": "stdout",
     "output_type": "stream",
     "text": [
      "+-----------+--------------------+-----------+----+--------------------+--------------+----------------+\n",
      "|cod_cliente|                nome|        cpf|sexo|            endereco| telefone_fixo|telefone_celular|\n",
      "+-----------+--------------------+-----------+----+--------------------+--------------+----------------+\n",
      "|          1|MARISA MELO OLIVEIRA|11111111111|   F|RUA JOSÉ WOSCH SO...|(41) 5096-4117|  (41) 5096-4117|\n",
      "|          2|MURILO CARVALHO C...|22222222222|   M|RUA GEORGE BERNAN...|(21) 3944-5385|            NULL|\n",
      "|          3|VINICIUS ROCHA RO...|33333333333|   M|                NULL|          NULL|            NULL|\n",
      "|          4|CAROLINA ROCHA GOMES|44444444444|   F|                NULL|          NULL|            NULL|\n",
      "|          5| ALINE SANTOS CASTRO|55555555555|   F|RUA ARMANDO PACAG...|(19) 7287-2893|  (19) 7287-2893|\n",
      "|          6|LEILA CORREIA CAV...|66666666666|   F|RUA FRANCISCO D'A...|          NULL|            NULL|\n",
      "|          7|SOPHIA CORREIA SA...|77777777777|   F|RUA JOÃO FORTES, 372|(49) 8269-6660|  (49) 8269-6660|\n",
      "|          8|  JOÃO CORREIA COSTA|88888888888|   M|   RUA PARAGUAI, 526|(51) 7774-2809|  (51) 7774-2809|\n",
      "|          9|   RAFAEL DIAS SOUZA|99999999999|   M|RUA MARIA MARCHI ...|(16) 7459-3139|  (16) 7459-3139|\n",
      "+-----------+--------------------+-----------+----+--------------------+--------------+----------------+\n",
      "\n"
     ]
    }
   ],
   "source": [
    "df_cliente.show()"
   ]
  },
  {
   "cell_type": "code",
   "execution_count": 7,
   "id": "dd284ef9",
   "metadata": {},
   "outputs": [
    {
     "name": "stdout",
     "output_type": "stream",
     "text": [
      "+------------+-------+-------------+-------------------+--------------+--------+\n",
      "|cod_sinistro|  placa|data_sinistro|      hora_sinistro|local_sinistro|condutor|\n",
      "+------------+-------+-------------+-------------------+--------------+--------+\n",
      "|   202255501|ALD3834|   2022-10-30|2025-04-21 11:00:00|      CRICIUMA|  ARAUJO|\n",
      "|   202255502|GQY6753|   2022-11-20|2025-04-21 10:34:00|         ICARA| CARDOSO|\n",
      "|   202255503|IAC8974|   2022-05-24|2025-04-21 22:40:00|       TUBARAO|   CUNHA|\n",
      "|   202255504|LVX7086|   2023-01-25|2025-04-21 07:37:00|     URUSSANGA|   SILVA|\n",
      "|   202255505|MZT1826|   2024-03-27|2025-04-21 15:40:00|   SIDEROPOLIS|    LUIZ|\n",
      "|   202255506|MZT1826|   2023-10-20|2025-04-21 16:00:00| FLORIANOPOLIS|    JOAO|\n",
      "|   202255507|MZT1826|   2022-05-08|2025-04-21 18:00:00|   NOVA VENEZA|   LUCAS|\n",
      "|   202255508|IAC8974|   2022-08-08|2025-04-21 21:00:00|      CRICIUMA|   PEDRO|\n",
      "+------------+-------+-------------+-------------------+--------------+--------+\n",
      "\n"
     ]
    }
   ],
   "source": [
    "df_sinistro.show()"
   ]
  },
  {
   "cell_type": "code",
   "execution_count": null,
   "id": "d0334c29",
   "metadata": {},
   "outputs": [
    {
     "name": "stdout",
     "output_type": "stream",
     "text": [
      "3.12.3 (main, Feb  4 2025, 14:48:35) [GCC 13.3.0]\n"
     ]
    }
   ],
   "source": [
    "df_cliente.write.format(\"parquet\").mode(\"overwrite\").save(\"/tmp/parquet/cliente\")\n",
    "df_cliente.write.format(\"delta\").mode(\"overwrite\").save(\"/tmp/delta/cliente\")\n",
    "df_carro.write.format(\"delta\").mode(\"overwrite\").save(\"/tmp/delta/carro\")\n",
    "df_apolice.write.format(\"delta\").mode(\"overwrite\").save(\"/tmp/delta/apolice\")\n",
    "df_sinistro.write.format(\"delta\").mode(\"overwrite\").save(\"/tmp/delta/sinistro\")\n",
    "\n",
    "spark.sql(\"CREATE TABLE delta_cliente USING DELTA LOCATION '/tmp/delta/cliente'\")\n"
   ]
  },
  {
   "cell_type": "code",
   "execution_count": 13,
   "id": "c19e1e7d",
   "metadata": {},
   "outputs": [
    {
     "name": "stdout",
     "output_type": "stream",
     "text": [
      "+-----------+--------------------+-----------+----+--------------------+--------------+----------------+\n",
      "|cod_cliente|                nome|        cpf|sexo|            endereco| telefone_fixo|telefone_celular|\n",
      "+-----------+--------------------+-----------+----+--------------------+--------------+----------------+\n",
      "|          2|MURILO CARVALHO C...|22222222222|   M|RUA GEORGE BERNAN...|(21) 3944-5385|            NULL|\n",
      "|          3|VINICIUS ROCHA RO...|33333333333|   M|                NULL|          NULL|            NULL|\n",
      "|          8|  JOÃO CORREIA COSTA|88888888888|   M|   RUA PARAGUAI, 526|(51) 7774-2809|  (51) 7774-2809|\n",
      "|          9|   RAFAEL DIAS SOUZA|99999999999|   M|RUA MARIA MARCHI ...|(16) 7459-3139|  (16) 7459-3139|\n",
      "+-----------+--------------------+-----------+----+--------------------+--------------+----------------+\n",
      "\n"
     ]
    }
   ],
   "source": [
    "resultado = spark.sql(\"\"\"\n",
    "    SELECT * FROM cliente WHERE sexo = 'M'\n",
    "\"\"\")\n",
    "resultado.show()"
   ]
  },
  {
   "cell_type": "code",
   "execution_count": 14,
   "id": "84516e88",
   "metadata": {},
   "outputs": [
    {
     "name": "stdout",
     "output_type": "stream",
     "text": [
      "+--------------------+-------+---------------+\n",
      "|                nome|  placa|valor_cobertura|\n",
      "+--------------------+-------+---------------+\n",
      "|MARISA MELO OLIVEIRA|MZT1826|        2565.25|\n",
      "|MARISA MELO OLIVEIRA|NAP5760|        9425.25|\n",
      "|MARISA MELO OLIVEIRA|CCR8096|       19970.84|\n",
      "|MURILO CARVALHO C...|NFT2212|       19509.51|\n",
      "|MURILO CARVALHO C...|ALD3834|        7865.55|\n",
      "|VINICIUS ROCHA RO...|JIE0952|       19456.46|\n",
      "|VINICIUS ROCHA RO...|LVX7086|         4615.6|\n",
      "|VINICIUS ROCHA RO...|LWJ9156|       19130.12|\n",
      "|VINICIUS ROCHA RO...|EEE1056|       15760.31|\n",
      "|CAROLINA ROCHA GOMES|GQY6753|       15040.52|\n",
      "|CAROLINA ROCHA GOMES|DLA3438|       16261.87|\n",
      "|LEILA CORREIA CAV...|FFR1234|       17561.01|\n",
      "|SOPHIA CORREIA SA...|NEM5116|        16081.9|\n",
      "|SOPHIA CORREIA SA...|IAC8974|       12595.89|\n",
      "|SOPHIA CORREIA SA...|IAC8974|        6815.28|\n",
      "|SOPHIA CORREIA SA...|IAC8974|         2737.3|\n",
      "+--------------------+-------+---------------+\n",
      "\n"
     ]
    }
   ],
   "source": [
    "resultado_join = spark.sql(\"\"\"\n",
    "    SELECT c.nome, a.placa, a.valor_cobertura\n",
    "    FROM cliente c\n",
    "    JOIN apolice a ON c.cod_cliente = a.cod_cliente\n",
    "\"\"\")\n",
    "resultado_join.show()"
   ]
  }
 ],
 "metadata": {
  "kernelspec": {
   "display_name": "Python 3.11 (.venv)",
   "language": "python",
   "name": ".venv"
  },
  "language_info": {
   "codemirror_mode": {
    "name": "ipython",
    "version": 3
   },
   "file_extension": ".py",
   "mimetype": "text/x-python",
   "name": "python",
   "nbconvert_exporter": "python",
   "pygments_lexer": "ipython3",
   "version": "3.12.3"
  }
 },
 "nbformat": 4,
 "nbformat_minor": 5
}
