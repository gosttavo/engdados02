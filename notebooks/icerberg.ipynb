{
 "cells": [
  {
   "cell_type": "code",
   "execution_count": 1,
   "id": "129a8275",
   "metadata": {},
   "outputs": [],
   "source": [
    "from pyspark.sql import SparkSession\n",
    "from pyspark.sql.types import StructType, StructField, StringType, IntegerType, DateType, DoubleType"
   ]
  },
  {
   "cell_type": "code",
   "execution_count": 2,
   "id": "9e3ad735",
   "metadata": {},
   "outputs": [
    {
     "name": "stderr",
     "output_type": "stream",
     "text": [
      "25/04/21 14:50:54 WARN Utils: Your hostname, edsatc resolves to a loopback address: 127.0.1.1; using 10.0.2.15 instead (on interface enp0s3)\n",
      "25/04/21 14:50:54 WARN Utils: Set SPARK_LOCAL_IP if you need to bind to another address\n"
     ]
    },
    {
     "name": "stdout",
     "output_type": "stream",
     "text": [
      ":: loading settings :: url = jar:file:/home/ed/%c3%81rea%20de%20trabalho/engdados02/.venv/lib/python3.11/site-packages/pyspark/jars/ivy-2.5.1.jar!/org/apache/ivy/core/settings/ivysettings.xml\n"
     ]
    },
    {
     "name": "stderr",
     "output_type": "stream",
     "text": [
      "Ivy Default Cache set to: /home/ed/.ivy2/cache\n",
      "The jars for the packages stored in: /home/ed/.ivy2/jars\n",
      "org.apache.iceberg#iceberg-spark-runtime-3.5_2.12 added as a dependency\n",
      ":: resolving dependencies :: org.apache.spark#spark-submit-parent-dfa34a82-4f01-455f-94b0-129bf4febf83;1.0\n",
      "\tconfs: [default]\n",
      "\tfound org.apache.iceberg#iceberg-spark-runtime-3.5_2.12;1.6.1 in central\n",
      ":: resolution report :: resolve 151ms :: artifacts dl 3ms\n",
      "\t:: modules in use:\n",
      "\torg.apache.iceberg#iceberg-spark-runtime-3.5_2.12;1.6.1 from central in [default]\n",
      "\t---------------------------------------------------------------------\n",
      "\t|                  |            modules            ||   artifacts   |\n",
      "\t|       conf       | number| search|dwnlded|evicted|| number|dwnlded|\n",
      "\t---------------------------------------------------------------------\n",
      "\t|      default     |   1   |   0   |   0   |   0   ||   1   |   0   |\n",
      "\t---------------------------------------------------------------------\n",
      ":: retrieving :: org.apache.spark#spark-submit-parent-dfa34a82-4f01-455f-94b0-129bf4febf83\n",
      "\tconfs: [default]\n",
      "\t0 artifacts copied, 1 already retrieved (0kB/6ms)\n",
      "25/04/21 14:50:55 WARN NativeCodeLoader: Unable to load native-hadoop library for your platform... using builtin-java classes where applicable\n",
      "Setting default log level to \"WARN\".\n",
      "To adjust logging level use sc.setLogLevel(newLevel). For SparkR, use setLogLevel(newLevel).\n",
      "25/04/21 14:50:57 WARN Utils: Service 'SparkUI' could not bind on port 4040. Attempting port 4041.\n"
     ]
    }
   ],
   "source": [
    "spark = SparkSession.builder \\\n",
    "  .appName(\"IcebergLocalDevelopment\") \\\n",
    "  .config('spark.jars.packages', 'org.apache.iceberg:iceberg-spark-runtime-3.5_2.12:1.6.1') \\\n",
    "  .config(\"spark.sql.extensions\", \"org.apache.iceberg.spark.extensions.IcebergSparkSessionExtensions\") \\\n",
    "  .config(\"spark.sql.catalog.local\", \"org.apache.iceberg.spark.SparkCatalog\") \\\n",
    "  .config(\"spark.sql.catalog.local.type\", \"hadoop\") \\\n",
    "  .config(\"spark.sql.catalog.local.warehouse\", \"spark-warehouse/iceberg\") \\\n",
    "  .getOrCreate()"
   ]
  },
  {
   "cell_type": "code",
   "execution_count": 3,
   "id": "3dc376e0",
   "metadata": {},
   "outputs": [],
   "source": [
    "apoliceSchema = StructType([\n",
    "    StructField(\"cod_apolice\", IntegerType(), False),\n",
    "    StructField(\"cod_cliente\", IntegerType(), False),\n",
    "    StructField(\"data_inicio_vigencia\", DateType(), True),\n",
    "    StructField(\"data_fim_vigencia\", DateType(), True),\n",
    "    StructField(\"valor_cobertura\", DoubleType(), True),\n",
    "    StructField(\"valor_franquia\", DoubleType(), True),\n",
    "    StructField(\"placa\", StringType(), True)\n",
    "])\n",
    "\n",
    "df_apolice = spark.read \\\n",
    "    .format(\"csv\") \\\n",
    "    .schema(apoliceSchema) \\\n",
    "    .option(\"header\", \"true\") \\\n",
    "    .option(\"encoding\", \"UTF-8\") \\\n",
    "    .load(\"../data/apolice.csv\")"
   ]
  },
  {
   "cell_type": "code",
   "execution_count": 4,
   "id": "8bde4864",
   "metadata": {},
   "outputs": [],
   "source": [
    "carroSchema = StructType([\n",
    "    StructField(\"placa\", StringType(), False),\n",
    "    StructField(\"modelo\", StringType(), True),\n",
    "    StructField(\"chassi\", StringType(), False),\n",
    "    StructField(\"marca\", StringType(), True),\n",
    "    StructField(\"ano\", IntegerType(), True),\n",
    "    StructField(\"cor\", StringType(), True),\n",
    "])\n",
    "\n",
    "df_carro = spark.read \\\n",
    "    .format(\"csv\") \\\n",
    "    .schema(carroSchema) \\\n",
    "    .option(\"header\", \"true\") \\\n",
    "    .option(\"encoding\", \"UTF-8\") \\\n",
    "    .load(\"../data/carro.csv\")"
   ]
  },
  {
   "cell_type": "code",
   "execution_count": 5,
   "id": "753101ba",
   "metadata": {},
   "outputs": [],
   "source": [
    "clienteSchema = StructType([\n",
    "    StructField(\"cod_cliente\", IntegerType(), False),\n",
    "    StructField(\"nome\", StringType(), True),\n",
    "    StructField(\"cpf\", StringType(), False),\n",
    "    StructField(\"sexo\", StringType(), True),\n",
    "    StructField(\"endereco\", StringType(), True),\n",
    "    StructField(\"telefone_fixo\", StringType(), True),\n",
    "    StructField(\"telefone_celular\", StringType(), True),\n",
    "])\n",
    "\n",
    "df_cliente = spark.read \\\n",
    "    .format(\"csv\") \\\n",
    "    .schema(clienteSchema) \\\n",
    "    .option(\"header\", \"true\") \\\n",
    "    .option(\"encoding\", \"UTF-8\") \\\n",
    "    .load(\"../data/cliente.csv\")"
   ]
  },
  {
   "cell_type": "code",
   "execution_count": 6,
   "id": "faf15a10",
   "metadata": {},
   "outputs": [],
   "source": [
    "sinistroSchema = StructType([\n",
    "    StructField(\"cod_sinistro\", IntegerType(), False),\n",
    "    StructField(\"placa\", StringType(), False),\n",
    "    StructField(\"data_sinistro\", DateType(), True),\n",
    "    StructField(\"hora_sinistro\", StringType(), True),\n",
    "    StructField(\"local_sinistro\", StringType(), True),\n",
    "    StructField(\"condutor\", StringType(), True),\n",
    "])\n",
    "\n",
    "df_sinistro = spark.read \\\n",
    "    .format(\"csv\") \\\n",
    "    .schema(sinistroSchema) \\\n",
    "    .option(\"header\", \"true\") \\\n",
    "    .option(\"encoding\", \"UTF-8\") \\\n",
    "    .load(\"../data/sinistro.csv\")"
   ]
  },
  {
   "cell_type": "code",
   "execution_count": 7,
   "id": "a37234be",
   "metadata": {},
   "outputs": [
    {
     "name": "stderr",
     "output_type": "stream",
     "text": [
      "                                                                                \r"
     ]
    },
    {
     "name": "stdout",
     "output_type": "stream",
     "text": [
      "+-----------+--------------------+-----------+----+--------------------+--------------+----------------+\n",
      "|cod_cliente|                nome|        cpf|sexo|            endereco| telefone_fixo|telefone_celular|\n",
      "+-----------+--------------------+-----------+----+--------------------+--------------+----------------+\n",
      "|          1|MARISA MELO OLIVEIRA|11111111111|   F|RUA JOSÉ WOSCH SO...|(41) 5096-4117|  (41) 5096-4117|\n",
      "|          2|MURILO CARVALHO C...|22222222222|   M|RUA GEORGE BERNAN...|(21) 3944-5385|            NULL|\n",
      "|          3|VINICIUS ROCHA RO...|33333333333|   M|                NULL|          NULL|            NULL|\n",
      "|          4|CAROLINA ROCHA GOMES|44444444444|   F|                NULL|          NULL|            NULL|\n",
      "|          5| ALINE SANTOS CASTRO|55555555555|   F|RUA ARMANDO PACAG...|(19) 7287-2893|  (19) 7287-2893|\n",
      "|          6|LEILA CORREIA CAV...|66666666666|   F|RUA FRANCISCO D'A...|          NULL|            NULL|\n",
      "|          7|SOPHIA CORREIA SA...|77777777777|   F|RUA JOÃO FORTES, 372|(49) 8269-6660|  (49) 8269-6660|\n",
      "|          8|  JOÃO CORREIA COSTA|88888888888|   M|   RUA PARAGUAI, 526|(51) 7774-2809|  (51) 7774-2809|\n",
      "|          9|   RAFAEL DIAS SOUZA|99999999999|   M|RUA MARIA MARCHI ...|(16) 7459-3139|  (16) 7459-3139|\n",
      "+-----------+--------------------+-----------+----+--------------------+--------------+----------------+\n",
      "\n"
     ]
    }
   ],
   "source": [
    "df_cliente.show()"
   ]
  },
  {
   "cell_type": "code",
   "execution_count": 8,
   "id": "6cde6cba",
   "metadata": {},
   "outputs": [
    {
     "data": {
      "text/plain": [
       "DataFrame[]"
      ]
     },
     "execution_count": 8,
     "metadata": {},
     "output_type": "execute_result"
    }
   ],
   "source": [
    "spark.sql(\"DROP TABLE IF EXISTS local.apolice\")\n",
    "spark.sql(\"DROP TABLE IF EXISTS local.carro\")\n",
    "spark.sql(\"DROP TABLE IF EXISTS local.cliente\")\n",
    "spark.sql(\"DROP TABLE IF EXISTS local.sinistro\")\n",
    "\n",
    "spark.sql(\"\"\"\n",
    "CREATE TABLE IF NOT EXISTS local.apolice (\n",
    "    cod_apolice INT,\n",
    "    cod_cliente INT,\n",
    "    data_inicio_vigencia DATE,\n",
    "    data_fim_vigencia DATE,\n",
    "    valor_cobertura DECIMAL(15, 2),\n",
    "    valor_franquia DECIMAL(15, 2),\n",
    "    placa STRING\n",
    ") USING iceberg\n",
    "\"\"\")\n",
    "\n",
    "spark.sql(\"\"\"\n",
    "CREATE TABLE IF NOT EXISTS local.carro (\n",
    "    placa STRING,\n",
    "    modelo STRING,\n",
    "    chassi STRING,\n",
    "    marca STRING,\n",
    "    ano INT,\n",
    "    cor STRING\n",
    ") USING iceberg\n",
    "\"\"\")\n",
    "\n",
    "spark.sql(\"\"\"\n",
    "CREATE TABLE IF NOT EXISTS local.cliente (\n",
    "    cod_cliente INT,\n",
    "    nome STRING,\n",
    "    cpf STRING,\n",
    "    sexo STRING,\n",
    "    endereco STRING,\n",
    "    telefone_fixo STRING,\n",
    "    telefone_celular STRING\n",
    ") USING iceberg\n",
    "\"\"\")\n",
    "\n",
    "spark.sql(\"\"\"\n",
    "CREATE TABLE IF NOT EXISTS local.sinistro (\n",
    "    cod_sinistro INT,\n",
    "    placa STRING,\n",
    "    data_sinistro DATE,\n",
    "    hora_sinistro STRING,\n",
    "    local_sinistro STRING,\n",
    "    condutor STRING\n",
    ") USING iceberg\n",
    "\"\"\")"
   ]
  },
  {
   "cell_type": "code",
   "execution_count": 9,
   "id": "5dfa1aaf",
   "metadata": {},
   "outputs": [
    {
     "name": "stderr",
     "output_type": "stream",
     "text": [
      "                                                                                \r"
     ]
    }
   ],
   "source": [
    "df_cliente.writeTo(\"local.cliente\").overwritePartitions()\n",
    "df_carro.writeTo(\"local.carro\").overwritePartitions()\n",
    "df_apolice.writeTo(\"local.apolice\").overwritePartitions()\n",
    "df_sinistro.writeTo(\"local.sinistro\").overwritePartitions()"
   ]
  },
  {
   "cell_type": "code",
   "execution_count": 10,
   "id": "46507fc0",
   "metadata": {},
   "outputs": [
    {
     "name": "stderr",
     "output_type": "stream",
     "text": [
      "                                                                                \r"
     ]
    },
    {
     "name": "stdout",
     "output_type": "stream",
     "text": [
      "+-----------+--------------------+-----------+----+--------------------+--------------+----------------+\n",
      "|cod_cliente|                nome|        cpf|sexo|            endereco| telefone_fixo|telefone_celular|\n",
      "+-----------+--------------------+-----------+----+--------------------+--------------+----------------+\n",
      "|          1|MARISA MELO OLIVEIRA|11111111111|   F|RUA JOSÉ WOSCH SO...|(41) 5096-4117|  (41) 5096-4117|\n",
      "|          2|MURILO CARVALHO C...|22222222222|   M|RUA GEORGE BERNAN...|(21) 3944-5385|            NULL|\n",
      "|          3|VINICIUS ROCHA RO...|33333333333|   M|                NULL|          NULL|            NULL|\n",
      "|          4|CAROLINA ROCHA GOMES|44444444444|   F|                NULL|          NULL|            NULL|\n",
      "|          5| ALINE SANTOS CASTRO|55555555555|   F|RUA ARMANDO PACAG...|(19) 7287-2893|  (19) 7287-2893|\n",
      "|          6|LEILA CORREIA CAV...|66666666666|   F|RUA FRANCISCO D'A...|          NULL|            NULL|\n",
      "|          7|SOPHIA CORREIA SA...|77777777777|   F|RUA JOÃO FORTES, 372|(49) 8269-6660|  (49) 8269-6660|\n",
      "|          8|  JOÃO CORREIA COSTA|88888888888|   M|   RUA PARAGUAI, 526|(51) 7774-2809|  (51) 7774-2809|\n",
      "|          9|   RAFAEL DIAS SOUZA|99999999999|   M|RUA MARIA MARCHI ...|(16) 7459-3139|  (16) 7459-3139|\n",
      "+-----------+--------------------+-----------+----+--------------------+--------------+----------------+\n",
      "\n",
      "+------------+-------+-------------+-------------+--------------+--------+\n",
      "|cod_sinistro|  placa|data_sinistro|hora_sinistro|local_sinistro|condutor|\n",
      "+------------+-------+-------------+-------------+--------------+--------+\n",
      "|   202255501|ALD3834|   2022-10-30|     11:00:00|      CRICIUMA|  ARAUJO|\n",
      "|   202255502|GQY6753|   2022-11-20|     10:34:00|         ICARA| CARDOSO|\n",
      "|   202255503|IAC8974|   2022-05-24|     22:40:00|       TUBARAO|   CUNHA|\n",
      "|   202255504|LVX7086|   2023-01-25|     07:37:00|     URUSSANGA|   SILVA|\n",
      "|   202255505|MZT1826|   2024-03-27|     15:40:00|   SIDEROPOLIS|    LUIZ|\n",
      "|   202255506|MZT1826|   2023-10-20|     16:00:00| FLORIANOPOLIS|    JOAO|\n",
      "|   202255507|MZT1826|   2022-05-08|     18:00:00|   NOVA VENEZA|   LUCAS|\n",
      "|   202255508|IAC8974|   2022-08-08|     21:00:00|      CRICIUMA|   PEDRO|\n",
      "+------------+-------+-------------+-------------+--------------+--------+\n",
      "\n"
     ]
    }
   ],
   "source": [
    "spark.sql(\"\"\"\n",
    "SELECT * FROM local.cliente\n",
    "\"\"\").show()\n",
    "\n",
    "spark.sql(\"\"\"\n",
    "SELECT * FROM local.sinistro\n",
    "\"\"\").show()"
   ]
  },
  {
   "cell_type": "code",
   "execution_count": null,
   "id": "c7400f45",
   "metadata": {},
   "outputs": [],
   "source": [
    "spark.sql(\"\"\"\n",
    "INSERT INTO local.cliente VALUES (10,'LUCAS OLIVEIRA', '1010101010', 'M', 'RUA TESTE', '', '(48) 9-88001118')\n",
    "\"\"\")\n",
    "\n",
    "spark.sql(\"\"\"\n",
    "SELECT * FROM local.cliente\n",
    "\"\"\").show()"
   ]
  },
  {
   "cell_type": "code",
   "execution_count": null,
   "id": "02769aa3",
   "metadata": {},
   "outputs": [
    {
     "name": "stdout",
     "output_type": "stream",
     "text": [
      "++\n",
      "||\n",
      "++\n",
      "++\n",
      "\n",
      "+-----------+--------------------+-----------+----+--------------------+--------------+----------------+\n",
      "|cod_cliente|                nome|        cpf|sexo|            endereco| telefone_fixo|telefone_celular|\n",
      "+-----------+--------------------+-----------+----+--------------------+--------------+----------------+\n",
      "|         10|      LUCAS OLIVEIRA| 1010101010|   M|           RUA TESTE|              | (48) 9-88001118|\n",
      "|          1|MARISA MELO OLIVEIRA|11111111111|   F|RUA JOSÉ WOSCH SO...|(41) 5096-4117|  (48) 5096-4117|\n",
      "|          2|MURILO CARVALHO C...|22222222222|   M|RUA GEORGE BERNAN...|(21) 3944-5385|            NULL|\n",
      "|          3|VINICIUS ROCHA RO...|33333333333|   M|                NULL|          NULL|            NULL|\n",
      "|          4|CAROLINA ROCHA GOMES|44444444444|   F|                NULL|          NULL|            NULL|\n",
      "|          5| ALINE SANTOS CASTRO|55555555555|   F|RUA ARMANDO PACAG...|(19) 7287-2893|  (19) 7287-2893|\n",
      "|          6|LEILA CORREIA CAV...|66666666666|   F|RUA FRANCISCO D'A...|          NULL|            NULL|\n",
      "|          7|SOPHIA CORREIA SA...|77777777777|   F|RUA JOÃO FORTES, 372|(49) 8269-6660|  (49) 8269-6660|\n",
      "|          8|  JOÃO CORREIA COSTA|88888888888|   M|   RUA PARAGUAI, 526|(51) 7774-2809|  (51) 7774-2809|\n",
      "|          9|   RAFAEL DIAS SOUZA|99999999999|   M|RUA MARIA MARCHI ...|(16) 7459-3139|  (16) 7459-3139|\n",
      "+-----------+--------------------+-----------+----+--------------------+--------------+----------------+\n",
      "\n"
     ]
    }
   ],
   "source": [
    "spark.sql(\"\"\"\n",
    "UPDATE local.cliente SET telefone_celular = '(48) 5096-4117' WHERE cod_cliente = 1\n",
    "\"\"\")\n",
    "\n",
    "spark.sql(\"\"\"\n",
    "SELECT * FROM local.cliente\n",
    "\"\"\").show()\n"
   ]
  },
  {
   "cell_type": "code",
   "execution_count": null,
   "id": "264272e6",
   "metadata": {},
   "outputs": [
    {
     "name": "stdout",
     "output_type": "stream",
     "text": [
      "++\n",
      "||\n",
      "++\n",
      "++\n",
      "\n",
      "+-----------+--------------------+-----------+----+--------------------+--------------+----------------+\n",
      "|cod_cliente|                nome|        cpf|sexo|            endereco| telefone_fixo|telefone_celular|\n",
      "+-----------+--------------------+-----------+----+--------------------+--------------+----------------+\n",
      "|          1|MARISA MELO OLIVEIRA|11111111111|   F|RUA JOSÉ WOSCH SO...|(41) 5096-4117|  (48) 5096-4117|\n",
      "|          2|MURILO CARVALHO C...|22222222222|   M|RUA GEORGE BERNAN...|(21) 3944-5385|            NULL|\n",
      "|          3|VINICIUS ROCHA RO...|33333333333|   M|                NULL|          NULL|            NULL|\n",
      "|          4|CAROLINA ROCHA GOMES|44444444444|   F|                NULL|          NULL|            NULL|\n",
      "|          5| ALINE SANTOS CASTRO|55555555555|   F|RUA ARMANDO PACAG...|(19) 7287-2893|  (19) 7287-2893|\n",
      "|          6|LEILA CORREIA CAV...|66666666666|   F|RUA FRANCISCO D'A...|          NULL|            NULL|\n",
      "|          7|SOPHIA CORREIA SA...|77777777777|   F|RUA JOÃO FORTES, 372|(49) 8269-6660|  (49) 8269-6660|\n",
      "|          8|  JOÃO CORREIA COSTA|88888888888|   M|   RUA PARAGUAI, 526|(51) 7774-2809|  (51) 7774-2809|\n",
      "|          9|   RAFAEL DIAS SOUZA|99999999999|   M|RUA MARIA MARCHI ...|(16) 7459-3139|  (16) 7459-3139|\n",
      "+-----------+--------------------+-----------+----+--------------------+--------------+----------------+\n",
      "\n"
     ]
    }
   ],
   "source": [
    "spark.sql(\"\"\"\n",
    "DELETE FROM local.cliente WHERE cod_cliente = 10\n",
    "\"\"\")\n",
    "\n",
    "spark.sql(\"\"\"\n",
    "SELECT * FROM local.cliente\n",
    "\"\"\").show()"
   ]
  },
  {
   "cell_type": "code",
   "execution_count": 17,
   "id": "2f7b527d",
   "metadata": {},
   "outputs": [
    {
     "name": "stdout",
     "output_type": "stream",
     "text": [
      "Apólices com valor de cobertura > 15000:\n",
      "+-----------+--------------------+-------+---------------+\n",
      "|cod_apolice|                nome|  placa|valor_cobertura|\n",
      "+-----------+--------------------+-------+---------------+\n",
      "|  202200012|MARISA MELO OLIVEIRA|CCR8096|       19970.84|\n",
      "|  202200007|MURILO CARVALHO C...|NFT2212|       19509.51|\n",
      "|  202200003|VINICIUS ROCHA RO...|JIE0952|       19456.46|\n",
      "|  202200005|VINICIUS ROCHA RO...|LWJ9156|       19130.12|\n",
      "|  202200016|VINICIUS ROCHA RO...|EEE1056|       15760.31|\n",
      "|  202200014|CAROLINA ROCHA GOMES|GQY6753|       15040.52|\n",
      "|  202200015|CAROLINA ROCHA GOMES|DLA3438|       16261.87|\n",
      "|  202200009|LEILA CORREIA CAV...|FFR1234|       17561.01|\n",
      "|  202200002|SOPHIA CORREIA SA...|NEM5116|       16081.90|\n",
      "+-----------+--------------------+-------+---------------+\n",
      "\n"
     ]
    }
   ],
   "source": [
    "print(\"Apólices com valor de cobertura > 15000:\")\n",
    "spark.sql(\"\"\"\n",
    "SELECT a.cod_apolice, c.nome, a.placa, a.valor_cobertura \n",
    "FROM local.apolice a\n",
    "JOIN local.cliente c ON a.cod_cliente = c.cod_cliente\n",
    "WHERE a.valor_cobertura > 15000\n",
    "\"\"\").show()"
   ]
  }
 ],
 "metadata": {
  "kernelspec": {
   "display_name": ".venv",
   "language": "python",
   "name": "python3"
  },
  "language_info": {
   "codemirror_mode": {
    "name": "ipython",
    "version": 3
   },
   "file_extension": ".py",
   "mimetype": "text/x-python",
   "name": "python",
   "nbconvert_exporter": "python",
   "pygments_lexer": "ipython3",
   "version": "3.11.8"
  }
 },
 "nbformat": 4,
 "nbformat_minor": 5
}
